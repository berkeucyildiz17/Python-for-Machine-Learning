{
  "cells": [
    {
      "cell_type": "markdown",
      "source": [
        "# Chapter 1\n",
        "### Your first day at your new job 👩‍💻👨‍💻\n",
        "\n",
        "You are starting a new job as a junior software developer in an IT company. \n",
        "\n",
        "The company’s HR department asks you to fill out a form, so you start by assigning your personal information to corresponding variables.\n",
        "\n",
        "📌 Create a variable for your name, surname, age, ID number, place of residence, to specify if you have active health insurance or not, and lastly one for specifying your nationality.\n"
      ],
      "metadata": {
        "id": "VMuUK0ap_bRD"
      }
    },
    {
      "cell_type": "code",
      "execution_count": null,
      "metadata": {
        "id": "OPLhhc2Sp-D0"
      },
      "outputs": [],
      "source": [
        "#Please assign your personal information to variables\n",
        "first_name=\"Berke\"\n",
        "last_name=\"Üçyıldız\"\n",
        "age=19\n",
        "id=123456789\n",
        "city=\"Istanbul\"\n",
        "health_insurance=True\n",
        "#nationality=\"Turkey\"\n"
      ]
    },
    {
      "cell_type": "markdown",
      "metadata": {
        "id": "3zaUlxwcp-D0"
      },
      "source": [
        "###Meet And Greet\n",
        "Introduce yourself to your new co-workers.\n",
        "\n",
        "📌 Use a f-string to print \"My name is Joey Tribbiani I am 25 years old and I live in London”."
      ]
    },
    {
      "cell_type": "code",
      "source": [
        "#Write a sentence using the print function to describe yourself using the variables above in the correct data type\n",
        "print(f\"I am {first_name} and {str(age)} years old, live in {city}\")"
      ],
      "metadata": {
        "id": "XNuh5_2WXwvg",
        "colab": {
          "base_uri": "https://localhost:8080/"
        },
        "outputId": "4c1ea78e-82bf-4b7b-83fd-a478a16ab1fb"
      },
      "execution_count": null,
      "outputs": [
        {
          "output_type": "stream",
          "name": "stdout",
          "text": [
            "I am Berke and 19 years old, live in Istanbul\n"
          ]
        }
      ]
    },
    {
      "cell_type": "markdown",
      "metadata": {
        "id": "EEL9To4ip-D1"
      },
      "source": [
        "### Equipment starter pack\n",
        "The HR department asks you to list the items you would need to improve your work efficiency\n",
        "\n",
        "Mandatory:\n",
        "* Laptop\n",
        "* Headset\n",
        "* Second monitor\n",
        "\n",
        "Optional:\n",
        "* Mousepad\n",
        "* USB drive\n",
        "* External drive\n",
        "\n",
        "\n",
        "📌 Create a shopping list that contains items above and print it."
      ]
    },
    {
      "cell_type": "code",
      "execution_count": null,
      "metadata": {
        "id": "fPFBLDyqp-D2"
      },
      "outputs": [],
      "source": [
        "#Create the item_list\n",
        "items=[\"Laptop\", \"Headset\", \"Second monitor\", \"Mousepad\", \"USB Drive\", \"External drive\"]"
      ]
    },
    {
      "cell_type": "code",
      "source": [
        "#Print the list\n",
        "print(items)"
      ],
      "metadata": {
        "id": "358R_CN5U2-J",
        "colab": {
          "base_uri": "https://localhost:8080/"
        },
        "outputId": "311bebc9-ce9c-4b5e-a046-50ea7c81618f"
      },
      "execution_count": null,
      "outputs": [
        {
          "output_type": "stream",
          "name": "stdout",
          "text": [
            "['Laptop', 'Headset', 'Second monitor', 'Mousepad', 'USB Drive', 'External drive']\n"
          ]
        }
      ]
    },
    {
      "cell_type": "markdown",
      "metadata": {
        "id": "5keEWjCyp-D2"
      },
      "source": [
        "####What is mandatory and what is optional?\n",
        "\n",
        "📌 Use list slicing to devide your list in two list: 'mandatory_item_list' and 'optional_item_list' and print both to the screen."
      ]
    },
    {
      "cell_type": "code",
      "execution_count": null,
      "metadata": {
        "id": "E6ewuDYZp-D2"
      },
      "outputs": [],
      "source": [
        "#Use list slicing to divide the mandatory items\n",
        "mandatory_items=items[0:3]"
      ]
    },
    {
      "cell_type": "code",
      "source": [
        "#Use list slicing to divide the optional items\n",
        "optional_items=items[3:6]"
      ],
      "metadata": {
        "id": "hOmkym01RGEL"
      },
      "execution_count": null,
      "outputs": []
    },
    {
      "cell_type": "code",
      "source": [
        "#Print both to the screen\n",
        "print(mandatory_items)\n",
        "print(optional_items)"
      ],
      "metadata": {
        "id": "xsVv1_msVE1_",
        "colab": {
          "base_uri": "https://localhost:8080/"
        },
        "outputId": "8da175ba-2b2d-415b-8d91-4c6a5e842274"
      },
      "execution_count": null,
      "outputs": [
        {
          "output_type": "stream",
          "name": "stdout",
          "text": [
            "['Laptop', 'Headset', 'Second monitor']\n",
            "['Mousepad', 'USB Drive', 'External drive']\n"
          ]
        }
      ]
    },
    {
      "cell_type": "markdown",
      "metadata": {
        "id": "s_M1Q93wp-D3"
      },
      "source": [
        "#### Go Shopping\n",
        "Next, you will have to go and purchase these items, the finance department confirmed a budget of $5000.\n",
        "\n",
        "📌 Assign 5000 to a variable called limit, so you know how much you can spend."
      ]
    },
    {
      "cell_type": "code",
      "execution_count": null,
      "metadata": {
        "id": "nCmpm0oqp-D3"
      },
      "outputs": [],
      "source": [
        "#Assign the spending limit value to a variable called limit\n",
        "limit=5000"
      ]
    },
    {
      "cell_type": "markdown",
      "metadata": {
        "id": "VwbEEymVp-D3"
      },
      "source": [
        "####Price dictionary\n",
        "\n",
        "Before you start shopping yo need to find the best items that you can buy within the company budget. \n",
        "\n",
        "📌 Prepare a dictionary called “price_sheet” that includes the items as keys and the prices as values.  \n",
        " "
      ]
    },
    {
      "cell_type": "code",
      "execution_count": null,
      "metadata": {
        "id": "9o9n9Ag-p-D3"
      },
      "outputs": [],
      "source": [
        "#Create a dictionary that contains each item and its price\n",
        "price_sheet={\n",
        "    'Laptop': 1500,\n",
        "    'Headset': 100,\n",
        "    'Second monitor': 200,\n",
        "    'Mousepad': 50,\n",
        "    'USB Drive': 70,\n",
        "    'External drive': 250\n",
        "}"
      ]
    },
    {
      "cell_type": "markdown",
      "metadata": {
        "id": "rUYivBVEBhCv"
      },
      "source": [
        "####Shopping functions\n",
        "\n",
        "You need to define three functions that will help you during shopping.\n",
        "\n",
        "📌 First, create an empty list that  will be your shopping cart. Here you will add the items you need to purchase.\n",
        "\n",
        "1. Define a function for both adding items to the cart and removing them from the item_list.\n",
        "\n",
        "📌 The \"add_to_cart\" function should take the item name and the quantity to buy as an argument. \n",
        "\n",
        "2. Define a function that will create an invoice. \n",
        "\n",
        "📌 The \"create_invoice\" function should calculate the taxes of each item (18%) and add it to the total amount.\n",
        "\n",
        "3. Define a function for the checkout. \n",
        "\n",
        "📌 The \"checkout\" function should subtract the total amount from the budget and print a statement to inform if the payment was successful. "
      ]
    },
    {
      "cell_type": "code",
      "source": [
        "#Initialize the cart list\n",
        "cart = [ ]"
      ],
      "metadata": {
        "id": "dBNZ2ZdkGHUe"
      },
      "execution_count": null,
      "outputs": []
    },
    {
      "cell_type": "code",
      "source": [
        "#Define the \"add_to_cart\" function\n",
        "def add_to_cart (item, quantity):\n",
        "  cart.append((item,quantity))\n",
        "  items.remove(item)"
      ],
      "metadata": {
        "id": "HH26hHHFGKPJ"
      },
      "execution_count": null,
      "outputs": []
    },
    {
      "cell_type": "code",
      "source": [
        "#Define the \"create_invoice\" function\n",
        "def create_invoice():\n",
        "  total_amount_inc_tax = 0\n",
        "  for item, quantity in cart:\n",
        "    price = price_sheet[item]\n",
        "    tax = 0.18 * price\n",
        "    total = (tax + price) * quantity\n",
        "    total_amount_inc_tax += total\n",
        "    print('Item: ', item, '\\t', 'Price: ', price, '\\t', 'Quantity: ', quantity, '\\t', 'Tax: ', tax, '\\t', 'Total: ', total, '\\n')\n",
        "  print(\"After the taxes are applied the total amount is: \", \"\\t0\", total_amount_inc_tax)\n",
        "  return total_amount_inc_tax"
      ],
      "metadata": {
        "id": "TUmNr4xVGQdm"
      },
      "execution_count": null,
      "outputs": []
    },
    {
      "cell_type": "code",
      "source": [
        "#Define the \"checkout\" function\n",
        "def checkout():\n",
        "  global limit\n",
        "  total_amount = create_invoice()\n",
        "  if limit == 0:\n",
        "    print(\"You do not have any budget\")\n",
        "  elif total_amount > limit:\n",
        "    print(\"The amount you have to pay is above the spending limit. You have to drop some items.\")\n",
        "  else:\n",
        "    limit -= total_amount\n",
        "    print(f\"The total amount (incl.taxes) you have paid is {total_amount}. You have {limit} dollars left.\")"
      ],
      "metadata": {
        "id": "iUlKiXgMGdIk"
      },
      "execution_count": null,
      "outputs": []
    },
    {
      "cell_type": "markdown",
      "source": [
        "Let's shop!"
      ],
      "metadata": {
        "id": "2IFUlu0yB0In"
      }
    },
    {
      "cell_type": "code",
      "source": [
        "#Call the \"add_to_cart\" function for each item\n",
        " \n",
        "#Add first item to cart\n",
        "add_to_cart(\"Laptop\", 1)\n",
        " \n",
        "#Add second item to cart\n",
        "add_to_cart(\"Headset\", 3)\n",
        " \n",
        "#Add third item to cart\n",
        "add_to_cart(\"Second monitor\", 2)\n",
        " \n",
        "#Add fourth item to cart\n",
        "add_to_cart(\"Mousepad\", 2)\n",
        " \n",
        "#Add fifth item to cart\n",
        "add_to_cart(\"USB Drive\", 1)\n",
        " \n",
        "#Add last item to cart\n",
        "add_to_cart(\"External drive\", 1)\n",
        " \n",
        "#Call the create \"checkout\" function to pay for all your items \n",
        "checkout()"
      ],
      "metadata": {
        "id": "FDO7CRJTWPg7",
        "colab": {
          "base_uri": "https://localhost:8080/"
        },
        "outputId": "4e057786-4965-433c-8b3b-cc1b1d861ed8"
      },
      "execution_count": null,
      "outputs": [
        {
          "output_type": "stream",
          "name": "stdout",
          "text": [
            "Item:  Laptop \t Price:  1500 \t Quantity:  1 \t Tax:  270.0 \t Total:  1770.0 \n",
            "\n",
            "Item:  Headset \t Price:  100 \t Quantity:  3 \t Tax:  18.0 \t Total:  354.0 \n",
            "\n",
            "Item:  Second monitor \t Price:  200 \t Quantity:  2 \t Tax:  36.0 \t Total:  472.0 \n",
            "\n",
            "Item:  Mousepad \t Price:  50 \t Quantity:  2 \t Tax:  9.0 \t Total:  118.0 \n",
            "\n",
            "Item:  USB Drive \t Price:  70 \t Quantity:  1 \t Tax:  12.6 \t Total:  82.6 \n",
            "\n",
            "Item:  External drive \t Price:  250 \t Quantity:  1 \t Tax:  45.0 \t Total:  295.0 \n",
            "\n",
            "After the taxes are applied the total amount is:  \t0 3091.6\n",
            "The total amount (incl.taxes) you have paid is 3091.6. You have 1908.4 dollars left.\n"
          ]
        }
      ]
    },
    {
      "cell_type": "markdown",
      "source": [
        "###Game Night\n",
        "\n",
        "You are back at the office and the HR department organizes a welcome party for new employees. \n",
        "\n",
        "You decide to create a Rock-Paper-Scissor game. \n",
        "\n",
        "📌 Create a Rock-Paper-Scissor game in which the user plays against the computer. The player will choose one of the actions, and the computer will choose its action randomly.\n"
      ],
      "metadata": {
        "id": "ZL-r2x_xKixg"
      }
    },
    {
      "cell_type": "code",
      "source": [
        "#Import the random library\n",
        "import random "
      ],
      "metadata": {
        "id": "qzD5pxBTgcFb"
      },
      "execution_count": null,
      "outputs": []
    },
    {
      "cell_type": "code",
      "source": [
        "#create a list containing the three actions of the game.\n",
        "action_list = ['rock', 'paper', 'scissors']"
      ],
      "metadata": {
        "id": "oJv-ihLAgcRo"
      },
      "execution_count": null,
      "outputs": []
    },
    {
      "cell_type": "code",
      "source": [
        "#Set the scores of players to 0\n",
        "computer_score = 0\n",
        "player_score = 0\n",
        "\n",
        "#Ask the user how many rounds they want to play\n",
        "total_rounds = input(\"How many rounds do you want to play? Please enter a number here: \")\n",
        "\n",
        "#Add a round_counter that is 0 at the beginning\n",
        "round_counter = 0\n",
        "\n",
        "#Write a while loop and put the game inside\n",
        "while True:\n",
        "\n",
        "  #Increase round_counter by and print it\n",
        "  round_counter += 1\n",
        "  print(\"Round number: \", round_counter)\n",
        "\n",
        "  #Select a random action for computer\n",
        "  computer_choice = random.choice(action_list)\n",
        "\n",
        "  #Ask player to choose an action\n",
        "  player_choice = input(\"Please choose your action: \")\n",
        "\n",
        "  #Print the players choices\n",
        "  print(\"Computer: \", computer_choice)\n",
        "  print(\"Player: \", player_choice)\n",
        "\n",
        "\n",
        "  #tie condition\n",
        "  if computer_choice == player_choice:\n",
        "    print(\"Tie! Both players choose the same action.\")\n",
        "\n",
        "  #Remaining conditions\n",
        "  elif computer_choice == 'paper':\n",
        "    if player_choice == 'rock':\n",
        "      print(\"Winner is: Computer\")\n",
        "      computer_score += 1\n",
        "    else:\n",
        "      print(\"Winner is: Player\")\n",
        "      player_score += 1\n",
        "  elif computer_choice == 'rock':\n",
        "    if player_choice == 'paper':\n",
        "      print(\"Winner is: Player\")\n",
        "      player_score += 1\n",
        "    else:\n",
        "      print(\"Winner is: Computer\")\n",
        "      computer_score += 1\n",
        "  elif computer_choice == 'scissors':\n",
        "     if player_choice == 'paper':\n",
        "      print(\"Winner is: Computer\")\n",
        "      computer_score += 1\n",
        "     else:\n",
        "      print(\"Winner is: Player\")\n",
        "      player_score += 1\n",
        "\n",
        "  #Stop the while loop if the round_counter equals the number of total rounds\n",
        "  if round_counter == int(total_rounds):\n",
        "    break\n",
        "\n",
        "\n",
        "#Print the outcome of the game by using conditional statements\n",
        "if computer_score == player_score:\n",
        "  print(\"There is no winner, tie.\", computer_score, \":\", player_score)\n",
        "elif computer_score > player_score:\n",
        "  print(\"Computer won with score\", computer_score, \":\", player_score)\n",
        "elif computer_score < player_score:\n",
        "  print(\"Computer won with score\", computer_score, \":\", player_score)\n"
      ],
      "metadata": {
        "id": "DNUa_9afWqMd",
        "colab": {
          "base_uri": "https://localhost:8080/"
        },
        "outputId": "7c0e5299-bec4-4686-e729-c452c2eba88a"
      },
      "execution_count": null,
      "outputs": [
        {
          "output_type": "stream",
          "name": "stdout",
          "text": [
            "How many rounds do you want to play? Please enter a number here: 4\n",
            "Round number:  1\n",
            "Please choose your action: pen\n",
            "Computer:  scissors\n",
            "Player:  pen\n",
            "Winner is: Player\n",
            "Round number:  2\n",
            "Please choose your action: rock\n",
            "Computer:  paper\n",
            "Player:  rock\n",
            "Winner is: Computer\n",
            "Round number:  3\n",
            "Please choose your action: pen\n",
            "Computer:  scissors\n",
            "Player:  pen\n",
            "Winner is: Player\n",
            "Round number:  4\n",
            "Please choose your action: paper\n",
            "Computer:  scissors\n",
            "Player:  paper\n",
            "Winner is: Computer\n",
            "There is no winner, tie. 2 : 2\n"
          ]
        }
      ]
    },
    {
      "cell_type": "markdown",
      "metadata": {
        "id": "jdrYN0Xgp-D6"
      },
      "source": [
        "# Your first task \n",
        "\n",
        "Rachel asks you to write a program to track the name and revenue each employee brings.  \n",
        "\n",
        "* Create the \"salesperson_revenue\" dictionary to see the employee name as a key and the revenue as a value.\n",
        "\n",
        "  📌 Every employee starts with 0 revenue.\n",
        "* Define the \"enter_revenue\" function. \n",
        "\n",
        "  📌 The function takes the name and revenue as an argument and updates the salesperson_revenue dictionary.\n"
      ]
    },
    {
      "cell_type": "code",
      "source": [
        "#Create salesperson_revenue dictionary\n",
        "salesperson_revenue = {\n",
        "    \"Ben\": 0,\n",
        "    \"Omer\": 0,\n",
        "    \"Karen\": 0,\n",
        "    \"Celine\": 0,\n",
        "    \"Sue\": 0,\n",
        "    \"Bora\": 0,\n",
        "    \"Rose\": 0,\n",
        "    \"Ellen\": 0\n",
        "}\n"
      ],
      "metadata": {
        "id": "3vzRo7hyMRv2"
      },
      "execution_count": null,
      "outputs": []
    },
    {
      "cell_type": "code",
      "source": [
        "#Define enter_revenue function\n",
        "def enter_revenue(name, revenue):\n",
        "  global salesperson_revenue\n",
        "  salesperson_revenue[name] += revenue\n"
      ],
      "metadata": {
        "id": "m-8IozBwMRzM"
      },
      "execution_count": null,
      "outputs": []
    },
    {
      "cell_type": "markdown",
      "source": [
        "####Try out the functions\n",
        "* In a while loop ask the user to give the name of the employee and for the revenue \n",
        "\n",
        "  📌 If the user enters “quit” the loop should break.\n",
        "\n",
        "After that, print out the salesperson_revenue dictionary.\n"
      ],
      "metadata": {
        "id": "UnTGSoNTi58u"
      }
    },
    {
      "cell_type": "code",
      "source": [
        "#Asking user employee name as input\n",
        "while True:\n",
        "  name = input(\"Employee name: \")\n",
        "  if name == \"quit\":\n",
        "    break\n",
        "  revenue = int(input(\"Enter revenue: \"))\n",
        "  enter_revenue(name,revenue)\n",
        "  print(f\"{name}'s revenue is {salesperson_revenue[name]}\")"
      ],
      "metadata": {
        "id": "2E549VvFXNi6",
        "colab": {
          "base_uri": "https://localhost:8080/"
        },
        "outputId": "10be45ed-907c-487b-f937-49162d5ae49a"
      },
      "execution_count": null,
      "outputs": [
        {
          "name": "stdout",
          "output_type": "stream",
          "text": [
            "Employee name: Ben\n",
            "Enter revenue: 20\n",
            "Ben's revenue is 20\n",
            "Employee name: Ben\n",
            "Enter revenue: 20\n",
            "Ben's revenue is 40\n",
            "Employee name: quit\n"
          ]
        }
      ]
    },
    {
      "cell_type": "code",
      "source": [
        "#Print the salesperson_revenue dictionary\n",
        "print(salesperson_revenue)"
      ],
      "metadata": {
        "id": "OAvl9rgOXPe6",
        "colab": {
          "base_uri": "https://localhost:8080/"
        },
        "outputId": "a3ed2969-701d-43a0-f5b6-1817d9427217"
      },
      "execution_count": null,
      "outputs": [
        {
          "output_type": "stream",
          "name": "stdout",
          "text": [
            "{'Ben': 40, 'Omer': 0, 'Karen': 0, 'Celine': 0, 'Sue': 0, 'Bora': 0, 'Rose': 0, 'Ellen': 0}\n"
          ]
        }
      ]
    },
    {
      "cell_type": "code",
      "source": [],
      "metadata": {
        "id": "WVtpYLX-QdQ6"
      },
      "execution_count": null,
      "outputs": []
    }
  ],
  "metadata": {
    "interpreter": {
      "hash": "c5914ae3790566b9cd0e984a9bdda42a29da8adf046b5ac0173e0d37aacf3dab"
    },
    "kernelspec": {
      "display_name": "Python 3.9.7",
      "language": "python",
      "name": "python3"
    },
    "language_info": {
      "codemirror_mode": {
        "name": "ipython",
        "version": 3
      },
      "file_extension": ".py",
      "mimetype": "text/x-python",
      "name": "python",
      "nbconvert_exporter": "python",
      "pygments_lexer": "ipython3",
      "version": "3.9.7"
    },
    "orig_nbformat": 4,
    "colab": {
      "provenance": [],
      "collapsed_sections": []
    }
  },
  "nbformat": 4,
  "nbformat_minor": 0
}